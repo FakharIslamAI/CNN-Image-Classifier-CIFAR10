{
 "cells": [
  {
   "cell_type": "code",
   "execution_count": 1,
   "id": "6a66af8c",
   "metadata": {},
   "outputs": [
    {
     "name": "stdout",
     "output_type": "stream",
     "text": [
      "1/1 [==============================] - 0s 328ms/step\n"
     ]
    }
   ],
   "source": [
    "import tkinter as tk\n",
    "from tkinter import filedialog\n",
    "from PIL import Image, ImageTk\n",
    "import numpy as np\n",
    "import tensorflow as tf\n",
    "from tensorflow.keras.models import load_model\n",
    "\n",
    "# Load the pre-trained model\n",
    "model = load_model('cifar10_model.h5')  # Update with your model file path\n",
    "\n",
    "# Function to preprocess the image before passing it to the model\n",
    "def preprocess_image(image_path):\n",
    "    img = Image.open(image_path)\n",
    "    img = img.resize((32, 32))  # Resize the image to match the model input size\n",
    "    img = np.array(img) / 255.0  # Normalize pixel values\n",
    "    img = np.expand_dims(img, axis=0)  # Add batch dimension\n",
    "    return img\n",
    "\n",
    "# Function to classify the image and update the label\n",
    "def classify_image():\n",
    "    file_path = filedialog.askopenfilename(initialdir=\"/\", title=\"Select Image\",\n",
    "                                           filetypes=((\"Image files\", \"*.png;*.jpg;*.jpeg\"), (\"all files\", \"*.*\")))\n",
    "    if file_path:\n",
    "        # Preprocess the image\n",
    "        img = preprocess_image(file_path)\n",
    "\n",
    "        # Make prediction\n",
    "        predictions = model.predict(img)\n",
    "        class_index = np.argmax(predictions)\n",
    "        class_label = class_labels[class_index]\n",
    "\n",
    "        # Update the label text\n",
    "        label_result.config(text=f\"Predicted Class: {class_label}\")\n",
    "\n",
    "        # Display the selected image\n",
    "        img = Image.open(file_path)\n",
    "        img.thumbnail((200, 200))\n",
    "        img = ImageTk.PhotoImage(img)\n",
    "        panel_img.config(image=img)\n",
    "        panel_img.image = img\n",
    "\n",
    "# GUI setup\n",
    "root = tk.Tk()\n",
    "root.title(\"Image Classifier\")\n",
    "\n",
    "# Button to select an image\n",
    "btn_select_image = tk.Button(root, text=\"Select Image\", command=classify_image)\n",
    "btn_select_image.pack(pady=10)\n",
    "\n",
    "# Label to display the result\n",
    "label_result = tk.Label(root, text=\"Predicted Class: None\")\n",
    "label_result.pack(pady=10)\n",
    "\n",
    "# Panel to display the selected image\n",
    "panel_img = tk.Label(root)\n",
    "panel_img.pack(pady=10)\n",
    "\n",
    "# Mapping class indices to labels (modify according to your model)\n",
    "class_labels = {0: 'Airplane', 1: 'Automobile', 2: 'Bird', 3: 'Cat', 4: 'Deer',\n",
    "                5: 'Dog', 6: 'Frog', 7: 'Horse', 8: 'Ship', 9: 'Truck'}\n",
    "\n",
    "root.mainloop()\n"
   ]
  },
  {
   "cell_type": "code",
   "execution_count": null,
   "id": "f9e16866",
   "metadata": {},
   "outputs": [],
   "source": []
  }
 ],
 "metadata": {
  "kernelspec": {
   "display_name": "Python 3 (ipykernel)",
   "language": "python",
   "name": "python3"
  },
  "language_info": {
   "codemirror_mode": {
    "name": "ipython",
    "version": 3
   },
   "file_extension": ".py",
   "mimetype": "text/x-python",
   "name": "python",
   "nbconvert_exporter": "python",
   "pygments_lexer": "ipython3",
   "version": "3.10.9"
  }
 },
 "nbformat": 4,
 "nbformat_minor": 5
}
